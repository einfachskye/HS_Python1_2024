{
 "cells": [
  {
   "cell_type": "markdown",
   "metadata": {},
   "source": [
    "# Loops"
   ]
  },
  {
   "cell_type": "markdown",
   "metadata": {},
   "source": [
    "## while loop"
   ]
  },
  {
   "cell_type": "code",
   "execution_count": 2,
   "metadata": {},
   "outputs": [
    {
     "name": "stdout",
     "output_type": "stream",
     "text": [
      "Hello\n",
      "Hello\n",
      "Hello\n",
      "Hello\n"
     ]
    }
   ],
   "source": [
    "i = 1\n",
    "while i < 5:\n",
    "    print(\"Hello\")\n",
    "    i += 1\n",
    "    "
   ]
  },
  {
   "cell_type": "code",
   "execution_count": 4,
   "metadata": {},
   "outputs": [
    {
     "name": "stdout",
     "output_type": "stream",
     "text": [
      "1\n",
      "2\n",
      "3\n",
      "4\n",
      "5\n"
     ]
    }
   ],
   "source": [
    "# 1,2,3,4,5 \n",
    "\n",
    "number = 1\n",
    "while number <= 5:\n",
    "    print(number)\n",
    "    number += 1   # number = number + 1"
   ]
  },
  {
   "cell_type": "code",
   "execution_count": 13,
   "metadata": {},
   "outputs": [
    {
     "name": "stdout",
     "output_type": "stream",
     "text": [
      "2\n",
      "4\n",
      "6\n",
      "8\n",
      "10\n",
      "12\n",
      "14\n",
      "16\n",
      "18\n",
      "20\n"
     ]
    }
   ],
   "source": [
    "\n",
    "\n",
    "number = 2\n",
    "while number <= 20:\n",
    "    print(number)\n",
    "    number += 2\n",
    "    "
   ]
  },
  {
   "cell_type": "code",
   "execution_count": 14,
   "metadata": {},
   "outputs": [
    {
     "name": "stdout",
     "output_type": "stream",
     "text": [
      "1\n",
      "3\n",
      "5\n",
      "7\n",
      "9\n",
      "11\n",
      "13\n",
      "15\n",
      "17\n",
      "19\n"
     ]
    }
   ],
   "source": [
    "\n",
    "number = 1\n",
    "while number <= 20:\n",
    "    print(number)\n",
    "    number += 2"
   ]
  },
  {
   "cell_type": "code",
   "execution_count": null,
   "metadata": {},
   "outputs": [],
   "source": [
    "number = 2\n",
    "while number <= 20:\n",
    "     if number % 2 == 0:\n",
    "    print(number)\n",
    "else:\n",
    "     number += 1\n",
    "\n",
    "\n",
    "\n",
    "# number = 1\n",
    "# while 1 <= 20\n",
    "# if 1 % 2 == 0: -> False\n",
    "#else:\n",
    "# number += 1\n",
    "# number = 2\n",
    "# while 2 <= 20\n",
    "# if 2 % 2 == 0: -> Trye\n",
    "# print(2)\n",
    "# number = 2\n",
    "# whule 2 <=20\n",
    "# if 2 % 2 == 0: -> True\n",
    "# print(2)\n",
    "\n",
    " \n",
    " "
   ]
  },
  {
   "cell_type": "markdown",
   "metadata": {},
   "source": [
    "### break, continue, pass"
   ]
  },
  {
   "cell_type": "code",
   "execution_count": 16,
   "metadata": {},
   "outputs": [
    {
     "name": "stdout",
     "output_type": "stream",
     "text": [
      "1\n",
      "2\n",
      "3\n",
      "4\n",
      "5\n",
      "6\n",
      "7\n",
      "8\n",
      "9\n",
      "10\n",
      "11\n",
      "12\n",
      "13\n",
      "14\n",
      "15\n"
     ]
    }
   ],
   "source": [
    "number = 1\n",
    "while True:\n",
    "    print(number)\n",
    "    if number % 3 == 0 and number % 5 == 0:\n",
    "        break\n",
    "    number += 1"
   ]
  },
  {
   "cell_type": "code",
   "execution_count": 1,
   "metadata": {},
   "outputs": [
    {
     "data": {
      "text/plain": [
       "'number = 1\\nwhile True:\\n    print(number)\\n    if number % 3 == 0 and number % 5 == 0:\\n        continue\\n    number += 1'"
      ]
     },
     "execution_count": 1,
     "metadata": {},
     "output_type": "execute_result"
    }
   ],
   "source": [
    "\"\"\"number = 1\n",
    "while True:\n",
    "    print(number)\n",
    "    if number % 3 == 0 and number % 5 == 0:\n",
    "        continue\n",
    "    number += 1\"\"\""
   ]
  },
  {
   "cell_type": "code",
   "execution_count": 21,
   "metadata": {},
   "outputs": [
    {
     "name": "stdout",
     "output_type": "stream",
     "text": [
      "1\n",
      "2\n",
      "3\n",
      "4\n",
      "5\n",
      "6\n",
      "7\n",
      "8\n",
      "9\n",
      "10\n",
      "11\n",
      "12\n",
      "13\n",
      "14\n",
      "15\n"
     ]
    }
   ],
   "source": [
    "number = 1\n",
    "while True:\n",
    "    print(number)\n",
    "    if number % 3 == 0 and number % 5 == 0:\n",
    "        break\n",
    "    # if number = 2\n",
    "    # continue\n",
    "    \n",
    "        pass\n",
    "        print(\"hello world\")\n",
    "    number += 1"
   ]
  },
  {
   "cell_type": "markdown",
   "metadata": {},
   "source": [
    "## for loop"
   ]
  },
  {
   "cell_type": "markdown",
   "metadata": {},
   "source": [
    "### range (start, stop, step)"
   ]
  },
  {
   "cell_type": "code",
   "execution_count": null,
   "metadata": {},
   "outputs": [],
   "source": [
    "range(6) # 0,1,2,3,4,5 stop\n",
    "range(10) # 0-9\n",
    "range(1) # 0\n",
    "range(0) # Nothing\n",
    "range(-3) # Nothing\n",
    "\n",
    "range(2,6) # 2,3,4,5 not counting stage, start and stop\n",
    "range(-1,3) # -1,0,1,2\n",
    "range(5,2) # Nothing\n",
    "\n",
    "range(3,9,2) # 3,5,9 : 3 start, 9 stop, 2 step\n",
    "range(-3,7,3) # -3,0,3, 6\n",
    "range(10,-1,-1) # 10,9,8,7,6,5,4,3,2,1,0\n"
   ]
  },
  {
   "cell_type": "markdown",
   "metadata": {},
   "source": [
    "### for variable_name in range (SOMETHINS):\n",
    "DO_SOMETHING"
   ]
  },
  {
   "cell_type": "code",
   "execution_count": 26,
   "metadata": {},
   "outputs": [
    {
     "name": "stdout",
     "output_type": "stream",
     "text": [
      "20\n",
      "14\n",
      "8\n"
     ]
    }
   ],
   "source": [
    "for number in range(20, 5, -3):\n",
    "    if number % 2 == 0:\n",
    "          print(number)\n"
   ]
  },
  {
   "cell_type": "markdown",
   "metadata": {},
   "source": [
    "Print square of numbers from 1-10\n",
    "1 4 9 16 .... 100"
   ]
  },
  {
   "cell_type": "code",
   "execution_count": 37,
   "metadata": {},
   "outputs": [
    {
     "ename": "SyntaxError",
     "evalue": "invalid syntax (200814465.py, line 1)",
     "output_type": "error",
     "traceback": [
      "\u001b[0;36m  Cell \u001b[0;32mIn[37], line 1\u001b[0;36m\u001b[0m\n\u001b[0;31m    for base number in range(1, 11):\u001b[0m\n\u001b[0m             ^\u001b[0m\n\u001b[0;31mSyntaxError\u001b[0m\u001b[0;31m:\u001b[0m invalid syntax\n"
     ]
    }
   ],
   "source": [
    "for base number in range(1, 11):\n",
    "    print(base_num ** 2)\n",
    "\n",
    "for base_num in range(10):\n",
    "    print((base_num + 1) **2)\n",
    "    "
   ]
  }
 ],
 "metadata": {
  "kernelspec": {
   "display_name": "hs_learning_env",
   "language": "python",
   "name": "python3"
  },
  "language_info": {
   "codemirror_mode": {
    "name": "ipython",
    "version": 3
   },
   "file_extension": ".py",
   "mimetype": "text/x-python",
   "name": "python",
   "nbconvert_exporter": "python",
   "pygments_lexer": "ipython3",
   "version": "3.12.4"
  }
 },
 "nbformat": 4,
 "nbformat_minor": 2
}
