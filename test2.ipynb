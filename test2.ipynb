{
 "cells": [
  {
   "cell_type": "code",
   "execution_count": 6,
   "metadata": {},
   "outputs": [
    {
     "name": "stdout",
     "output_type": "stream",
     "text": [
      "Hello Skye\n"
     ]
    }
   ],
   "source": [
    "print(\"Hello Skye\")"
   ]
  },
  {
   "cell_type": "markdown",
   "metadata": {},
   "source": [
    "print (\"Hello World\")"
   ]
  },
  {
   "cell_type": "code",
   "execution_count": null,
   "metadata": {},
   "outputs": [],
   "source": [
    "print(\"hello world\") # in-line comment"
   ]
  },
  {
   "cell_type": "code",
   "execution_count": 9,
   "metadata": {},
   "outputs": [
    {
     "name": "stdout",
     "output_type": "stream",
     "text": [
      "hello world\n",
      "Hello World ! 123\n",
      "Hello-World-!-123\n",
      "Hello\n",
      "World\n",
      "!\n",
      "123\n",
      "HelloskyeWorldskye!skye123\n"
     ]
    }
   ],
   "source": [
    "print(\"hello world\")\n",
    "print(\"Hello\", \"World\", \"!\", \"123\")\n",
    "print(\"Hello\", \"World\", \"!\", \"123\", sep=\"-\")\n",
    "print(\"Hello\", \"World\", \"!\", \"123\", sep=\"\\n\")\n",
    "print(\"Hello\", \"World\", \"!\", \"123\", sep=\"skye\")"
   ]
  },
  {
   "cell_type": "markdown",
   "metadata": {},
   "source": [
    "integer - int\n",
    "floating point - float \n",
    "string - str \n",
    "boolean - bool\n",
    "Nonetype - None"
   ]
  },
  {
   "cell_type": "code",
   "execution_count": null,
   "metadata": {},
   "outputs": [],
   "source": [
    "# int\n",
    "1,2,0,-1, -5\n",
    "int()\n",
    "\n",
    "# float \n",
    "1.5, -2, 0.0000\n",
    "float()\n",
    "\n",
    "# string\n",
    "\"Hi\"\n",
    "'Hi'\n",
    "\"\"\"\n",
    "fdslinf \n",
    "\"\"\"\n",
    "str ()\n",
    "\n",
    "# boolean\n",
    "True, False\n",
    "bool ()\n",
    "\n",
    "\n",
    "# Nonetypes\n",
    "None\n"
   ]
  },
  {
   "cell_type": "markdown",
   "metadata": {},
   "source": [
    "# Type Checking"
   ]
  },
  {
   "cell_type": "code",
   "execution_count": 12,
   "metadata": {},
   "outputs": [
    {
     "name": "stdout",
     "output_type": "stream",
     "text": [
      "<class 'float'>\n"
     ]
    },
    {
     "data": {
      "text/plain": [
       "True"
      ]
     },
     "execution_count": 12,
     "metadata": {},
     "output_type": "execute_result"
    }
   ],
   "source": [
    "print(type(0.0))\n",
    "isinstance(-1, int)\n",
    "isinstance(True, int)\n"
   ]
  }
 ],
 "metadata": {
  "kernelspec": {
   "display_name": "hs_learning_env",
   "language": "python",
   "name": "python3"
  },
  "language_info": {
   "codemirror_mode": {
    "name": "ipython",
    "version": 3
   },
   "file_extension": ".py",
   "mimetype": "text/x-python",
   "name": "python",
   "nbconvert_exporter": "python",
   "pygments_lexer": "ipython3",
   "version": "3.12.4"
  }
 },
 "nbformat": 4,
 "nbformat_minor": 2
}
