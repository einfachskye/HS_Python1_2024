{
 "cells": [
  {
   "cell_type": "markdown",
   "metadata": {},
   "source": [
    "# f-string (string format)"
   ]
  },
  {
   "cell_type": "code",
   "execution_count": 2,
   "metadata": {},
   "outputs": [
    {
     "name": "stdout",
     "output_type": "stream",
     "text": [
      "Hello, skye. Your age is 20.\n",
      "Hello, skye. Your age is 20.\n"
     ]
    }
   ],
   "source": [
    "user_name = input()\n",
    "age = input()\n",
    "birthdate = input()\n",
    "greeting_msg = \"Hello, \" + user_name + \". Your age is \" + age + \".\"\n",
    "greeting_msg_formatted = f\"Hello, {user_name}. Your age is {age}.\"\n",
    "\n",
    "print(greeting_msg)\n",
    "print(greeting_msg_formatted)\n",
    "\n"
   ]
  },
  {
   "cell_type": "markdown",
   "metadata": {},
   "source": [
    "# in/ not in operators"
   ]
  }
 ],
 "metadata": {
  "kernelspec": {
   "display_name": "hs_learning_env",
   "language": "python",
   "name": "python3"
  },
  "language_info": {
   "codemirror_mode": {
    "name": "ipython",
    "version": 3
   },
   "file_extension": ".py",
   "mimetype": "text/x-python",
   "name": "python",
   "nbconvert_exporter": "python",
   "pygments_lexer": "ipython3",
   "version": "3.12.4"
  }
 },
 "nbformat": 4,
 "nbformat_minor": 2
}
