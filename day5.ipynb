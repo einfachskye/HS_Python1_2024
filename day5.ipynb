{
 "cells": [
  {
   "cell_type": "markdown",
   "metadata": {},
   "source": [
    "# Day 5"
   ]
  },
  {
   "cell_type": "code",
   "execution_count": 1,
   "metadata": {},
   "outputs": [
    {
     "data": {
      "text/plain": [
       "True"
      ]
     },
     "execution_count": 1,
     "metadata": {},
     "output_type": "execute_result"
    }
   ],
   "source": [
    "True and (False or True)"
   ]
  },
  {
   "cell_type": "markdown",
   "metadata": {},
   "source": [
    "# Constant"
   ]
  },
  {
   "cell_type": "code",
   "execution_count": null,
   "metadata": {},
   "outputs": [],
   "source": [
    "PI = 3.14\n",
    "MATH_E = 2.7\n",
    "API_LINK = 'https://api.binance.com/api/v3/ticker/price/symbol=btcusdt'"
   ]
  },
  {
   "cell_type": "markdown",
   "metadata": {},
   "source": [
    "# Conditionals"
   ]
  },
  {
   "cell_type": "code",
   "execution_count": null,
   "metadata": {},
   "outputs": [],
   "source": [
    "# if CONDITION:\n",
    "#     DO_SOMETHING\n",
    "\n",
    "if 3 < 2:\n",
    "    print(\"HELLO\")"
   ]
  },
  {
   "cell_type": "code",
   "execution_count": 18,
   "metadata": {},
   "outputs": [
    {
     "name": "stdout",
     "output_type": "stream",
     "text": [
      "YESSS\n",
      "WOW\n",
      "NOOOOOOOO\n"
     ]
    }
   ],
   "source": [
    "if 5!= 4 and 6 > 3:\n",
    "    print(\"YESSS\")\n",
    "\n",
    "print(\"WOW\")\n",
    "\n",
    "if 5 > 4:\n",
    "    print(\"NOOOOOOOO\")"
   ]
  },
  {
   "cell_type": "code",
   "execution_count": 20,
   "metadata": {},
   "outputs": [
    {
     "name": "stdout",
     "output_type": "stream",
     "text": [
      "YESSS\n",
      "WOW\n"
     ]
    }
   ],
   "source": [
    "if 5!= 4 and 6 > 3:\n",
    "    if 5 < 4:\n",
    "        print(\"NOOOOOOOO\")\n",
    "    print(\"YESSS\")\n",
    "print(\"WOW\")"
   ]
  },
  {
   "cell_type": "code",
   "execution_count": 21,
   "metadata": {},
   "outputs": [
    {
     "name": "stdout",
     "output_type": "stream",
     "text": [
      "OH HELL No...\n",
      "HUH\n",
      "OH HELL NO...\n"
     ]
    }
   ],
   "source": [
    "if 2 != 3:\n",
    "    if 3 != 4:\n",
    "        if 4 != 5:\n",
    "            if 5 != 6:\n",
    "                if 6 != 7:\n",
    "                    print(\"OH HELL No...\")\n",
    "\n",
    "            if 11 != 13:\n",
    "                print(\"HUH\")\n",
    "\n",
    "\n",
    "if 2 != 3 and 3 != 4 and 4 != 5 and 5 != 6 and 6 != 7:\n",
    "    print(\"OH HELL NO...\")\n"
   ]
  },
  {
   "cell_type": "markdown",
   "metadata": {},
   "source": [
    "# Else"
   ]
  },
  {
   "cell_type": "code",
   "execution_count": 22,
   "metadata": {},
   "outputs": [
    {
     "name": "stdout",
     "output_type": "stream",
     "text": [
      "TRUE:\n",
      "YES\n"
     ]
    }
   ],
   "source": [
    "if 4 != 5:\n",
    "    print(\"TRUE:\")\n",
    "else:\n",
    "    print(\"FALSE!!\")\n",
    "if 6 != 5:\n",
    "    print(\"YES\")\n",
    "else:\n",
    "    print(\"NO\")"
   ]
  },
  {
   "cell_type": "markdown",
   "metadata": {},
   "source": [
    "# ELif"
   ]
  },
  {
   "cell_type": "code",
   "execution_count": 23,
   "metadata": {},
   "outputs": [
    {
     "name": "stdout",
     "output_type": "stream",
     "text": [
      "C\n"
     ]
    }
   ],
   "source": [
    "if 2 > 3:\n",
    "    print(\"A\")\n",
    "elif 3 > 4:\n",
    "    print(\"B\")\n",
    "elif 4 < 5:\n",
    "    print(\"C\")\n",
    "else:\n",
    "    print(\"D\")\n",
    "    \n",
    " "
   ]
  },
  {
   "cell_type": "markdown",
   "metadata": {},
   "source": [
    "### you are at the restaurant deciding what meal should you have today based on the money you have."
   ]
  },
  {
   "cell_type": "code",
   "execution_count": 26,
   "metadata": {},
   "outputs": [
    {
     "name": "stdout",
     "output_type": "stream",
     "text": [
      "Go back home and eat MaMa\n"
     ]
    }
   ],
   "source": [
    "pocket_money = 0\n",
    "\n",
    "if pocket_money > 3000:\n",
    "    print('cavier and foir gras')\n",
    "    print('Wine')\n",
    "elif pocket_money > 700:\n",
    "    print('Buffet')\n",
    "    print('Beer')\n",
    "elif pocket_money > 100:\n",
    "    print('Tom Yum')\n",
    "    print('Thai Omlettet')\n",
    "elif pocket_money < 10:\n",
    "    print('Go back home and eat MaMa')\n"
   ]
  },
  {
   "cell_type": "code",
   "execution_count": 33,
   "metadata": {},
   "outputs": [
    {
     "name": "stdout",
     "output_type": "stream",
     "text": [
      "Buffet\n",
      "Beer\n"
     ]
    }
   ],
   "source": [
    "pocket_money = int(input('Enter your pocket money: '))\n",
    "age = int(input('What is your age'))\n",
    "\n",
    "if pocket_money > 3000:\n",
    "    print('cavier and foir gras')\n",
    "    if age >= 20:\n",
    "       print('Wine')\n",
    "elif pocket_money > 700:\n",
    "    if age >= 20:\n",
    "        print('Buffet')\n",
    "    print('Beer')\n",
    "elif pocket_money > 100:\n",
    "    print('Tom Yum')\n",
    "    print('Thai Omlettet')\n",
    "elif pocket_money < 10:\n",
    "    print('Go back home and eat MaMa')\n"
   ]
  },
  {
   "cell_type": "code",
   "execution_count": 36,
   "metadata": {},
   "outputs": [
    {
     "name": "stdout",
     "output_type": "stream",
     "text": [
      "12\n"
     ]
    }
   ],
   "source": [
    "a = int(input())\n",
    "b = int(input())\n",
    "c = int(input())\n",
    "a = 3 \n",
    "b = 4\n",
    "c = 5\n",
    "print(a+b+c)"
   ]
  },
  {
   "cell_type": "code",
   "execution_count": 37,
   "metadata": {},
   "outputs": [
    {
     "name": "stdout",
     "output_type": "stream",
     "text": [
      "32\n"
     ]
    }
   ],
   "source": [
    "a = int(input())\n",
    "b = int(input())\n",
    "c = int(input())\n",
    "a = 15\n",
    "b = 7\n",
    "c = 10\n",
    "print(a+b+c)"
   ]
  },
  {
   "cell_type": "code",
   "execution_count": 38,
   "metadata": {},
   "outputs": [
    {
     "name": "stdout",
     "output_type": "stream",
     "text": [
      "10\n"
     ]
    }
   ],
   "source": [
    "\n",
    "a = int(input())\n",
    "b = int(input())\n",
    "a = 2\n",
    "b = 5\n",
    "print(a*b)"
   ]
  },
  {
   "cell_type": "code",
   "execution_count": 39,
   "metadata": {},
   "outputs": [
    {
     "name": "stdout",
     "output_type": "stream",
     "text": [
      "21\n"
     ]
    }
   ],
   "source": [
    "a = int(input())\n",
    "b = int(input())\n",
    "a = 3\n",
    "b = 7\n",
    "print(a*b)"
   ]
  },
  {
   "cell_type": "code",
   "execution_count": 41,
   "metadata": {},
   "outputs": [
    {
     "name": "stdout",
     "output_type": "stream",
     "text": [
      "2\n"
     ]
    }
   ],
   "source": [
    "n = int(input())\n",
    "m = int(input())\n",
    "n = 10\n",
    "m = 5\n",
    "print(n/m)"
   ]
  },
  {
   "cell_type": "code",
   "execution_count": null,
   "metadata": {},
   "outputs": [],
   "source": [
    "n = int(input())\n",
    "m = int(input())\n",
    "n = 10\n",
    "m = 5\n",
    "print(n/m)"
   ]
  },
  {
   "cell_type": "code",
   "execution_count": 48,
   "metadata": {},
   "outputs": [
    {
     "name": "stdout",
     "output_type": "stream",
     "text": [
      "9\n"
     ]
    }
   ],
   "source": [
    "p = int(input())\n",
    "print(p%10)"
   ]
  },
  {
   "cell_type": "code",
   "execution_count": 50,
   "metadata": {},
   "outputs": [
    {
     "name": "stdout",
     "output_type": "stream",
     "text": [
      "3\n"
     ]
    }
   ],
   "source": [
    "f = int(input())\n",
    "print(f//10)\n"
   ]
  },
  {
   "cell_type": "code",
   "execution_count": 52,
   "metadata": {},
   "outputs": [
    {
     "name": "stdout",
     "output_type": "stream",
     "text": [
      "15\n"
     ]
    }
   ],
   "source": [
    "f = int(input())\n",
    "f = 3*n\n",
    "k = int(input())\n",
    "print(3*n*k//2)\n"
   ]
  },
  {
   "cell_type": "code",
   "execution_count": null,
   "metadata": {},
   "outputs": [],
   "source": []
  }
 ],
 "metadata": {
  "kernelspec": {
   "display_name": "hs_learning_env",
   "language": "python",
   "name": "python3"
  },
  "language_info": {
   "codemirror_mode": {
    "name": "ipython",
    "version": 3
   },
   "file_extension": ".py",
   "mimetype": "text/x-python",
   "name": "python",
   "nbconvert_exporter": "python",
   "pygments_lexer": "ipython3",
   "version": "3.12.4"
  }
 },
 "nbformat": 4,
 "nbformat_minor": 2
}
